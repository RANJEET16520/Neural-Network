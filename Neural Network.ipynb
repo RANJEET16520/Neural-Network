{
 "cells": [
  {
   "cell_type": "markdown",
   "metadata": {},
   "source": [
    "# SIMPLE NEURAL NETWORK"
   ]
  },
  {
   "cell_type": "markdown",
   "metadata": {},
   "source": [
    "## Importing Modules"
   ]
  },
  {
   "cell_type": "code",
   "execution_count": 1,
   "metadata": {},
   "outputs": [],
   "source": [
    "import numpy as np\n",
    "import matplotlib.pyplot as plt\n",
    "import pandas as pd\n",
    "import tensorflow as tf\n",
    "import sys\n",
    "# tf.enable_eager_execution()\n",
    "from tensorflow.keras.layers import *\n",
    "import matplotlib.pyplot as plt"
   ]
  },
  {
   "cell_type": "code",
   "execution_count": 2,
   "metadata": {},
   "outputs": [],
   "source": [
    "is_correct_tf_version = '1.13.' in tf.__version__\n",
    "assert is_correct_tf_version, \"Wrong tensorflow version {} installed\".format(tf.__version__)"
   ]
  },
  {
   "cell_type": "markdown",
   "metadata": {},
   "source": [
    "## Inputs"
   ]
  },
  {
   "cell_type": "markdown",
   "metadata": {},
   "source": [
    "#### Reading Dataset"
   ]
  },
  {
   "cell_type": "code",
   "execution_count": 3,
   "metadata": {},
   "outputs": [
    {
     "data": {
      "text/html": [
       "<div>\n",
       "<style scoped>\n",
       "    .dataframe tbody tr th:only-of-type {\n",
       "        vertical-align: middle;\n",
       "    }\n",
       "\n",
       "    .dataframe tbody tr th {\n",
       "        vertical-align: top;\n",
       "    }\n",
       "\n",
       "    .dataframe thead th {\n",
       "        text-align: right;\n",
       "    }\n",
       "</style>\n",
       "<table border=\"1\" class=\"dataframe\">\n",
       "  <thead>\n",
       "    <tr style=\"text-align: right;\">\n",
       "      <th></th>\n",
       "      <th>X1</th>\n",
       "      <th>X2</th>\n",
       "      <th>Y</th>\n",
       "    </tr>\n",
       "  </thead>\n",
       "  <tbody>\n",
       "    <tr>\n",
       "      <th>0</th>\n",
       "      <td>4.0</td>\n",
       "      <td>5.0</td>\n",
       "      <td>1.0</td>\n",
       "    </tr>\n",
       "    <tr>\n",
       "      <th>1</th>\n",
       "      <td>2.0</td>\n",
       "      <td>1.0</td>\n",
       "      <td>0.0</td>\n",
       "    </tr>\n",
       "    <tr>\n",
       "      <th>2</th>\n",
       "      <td>2.0</td>\n",
       "      <td>2.0</td>\n",
       "      <td>0.0</td>\n",
       "    </tr>\n",
       "    <tr>\n",
       "      <th>3</th>\n",
       "      <td>5.0</td>\n",
       "      <td>6.0</td>\n",
       "      <td>1.0</td>\n",
       "    </tr>\n",
       "    <tr>\n",
       "      <th>4</th>\n",
       "      <td>3.0</td>\n",
       "      <td>4.0</td>\n",
       "      <td>1.0</td>\n",
       "    </tr>\n",
       "    <tr>\n",
       "      <th>5</th>\n",
       "      <td>3.0</td>\n",
       "      <td>4.0</td>\n",
       "      <td>1.0</td>\n",
       "    </tr>\n",
       "    <tr>\n",
       "      <th>6</th>\n",
       "      <td>1.0</td>\n",
       "      <td>2.0</td>\n",
       "      <td>0.0</td>\n",
       "    </tr>\n",
       "    <tr>\n",
       "      <th>7</th>\n",
       "      <td>5.0</td>\n",
       "      <td>4.0</td>\n",
       "      <td>1.0</td>\n",
       "    </tr>\n",
       "    <tr>\n",
       "      <th>8</th>\n",
       "      <td>6.0</td>\n",
       "      <td>3.0</td>\n",
       "      <td>0.0</td>\n",
       "    </tr>\n",
       "    <tr>\n",
       "      <th>9</th>\n",
       "      <td>4.0</td>\n",
       "      <td>2.0</td>\n",
       "      <td>1.0</td>\n",
       "    </tr>\n",
       "    <tr>\n",
       "      <th>10</th>\n",
       "      <td>3.0</td>\n",
       "      <td>6.0</td>\n",
       "      <td>1.0</td>\n",
       "    </tr>\n",
       "    <tr>\n",
       "      <th>11</th>\n",
       "      <td>4.0</td>\n",
       "      <td>3.0</td>\n",
       "      <td>1.0</td>\n",
       "    </tr>\n",
       "    <tr>\n",
       "      <th>12</th>\n",
       "      <td>1.0</td>\n",
       "      <td>1.0</td>\n",
       "      <td>0.0</td>\n",
       "    </tr>\n",
       "    <tr>\n",
       "      <th>13</th>\n",
       "      <td>3.0</td>\n",
       "      <td>3.0</td>\n",
       "      <td>1.0</td>\n",
       "    </tr>\n",
       "    <tr>\n",
       "      <th>14</th>\n",
       "      <td>5.0</td>\n",
       "      <td>3.0</td>\n",
       "      <td>1.0</td>\n",
       "    </tr>\n",
       "    <tr>\n",
       "      <th>15</th>\n",
       "      <td>4.0</td>\n",
       "      <td>4.0</td>\n",
       "      <td>1.0</td>\n",
       "    </tr>\n",
       "    <tr>\n",
       "      <th>16</th>\n",
       "      <td>3.0</td>\n",
       "      <td>6.0</td>\n",
       "      <td>1.0</td>\n",
       "    </tr>\n",
       "    <tr>\n",
       "      <th>17</th>\n",
       "      <td>5.0</td>\n",
       "      <td>2.0</td>\n",
       "      <td>1.0</td>\n",
       "    </tr>\n",
       "    <tr>\n",
       "      <th>18</th>\n",
       "      <td>5.0</td>\n",
       "      <td>5.0</td>\n",
       "      <td>1.0</td>\n",
       "    </tr>\n",
       "    <tr>\n",
       "      <th>19</th>\n",
       "      <td>6.0</td>\n",
       "      <td>4.0</td>\n",
       "      <td>1.0</td>\n",
       "    </tr>\n",
       "    <tr>\n",
       "      <th>20</th>\n",
       "      <td>5.0</td>\n",
       "      <td>6.0</td>\n",
       "      <td>1.0</td>\n",
       "    </tr>\n",
       "  </tbody>\n",
       "</table>\n",
       "</div>"
      ],
      "text/plain": [
       "     X1   X2    Y\n",
       "0   4.0  5.0  1.0\n",
       "1   2.0  1.0  0.0\n",
       "2   2.0  2.0  0.0\n",
       "3   5.0  6.0  1.0\n",
       "4   3.0  4.0  1.0\n",
       "5   3.0  4.0  1.0\n",
       "6   1.0  2.0  0.0\n",
       "7   5.0  4.0  1.0\n",
       "8   6.0  3.0  0.0\n",
       "9   4.0  2.0  1.0\n",
       "10  3.0  6.0  1.0\n",
       "11  4.0  3.0  1.0\n",
       "12  1.0  1.0  0.0\n",
       "13  3.0  3.0  1.0\n",
       "14  5.0  3.0  1.0\n",
       "15  4.0  4.0  1.0\n",
       "16  3.0  6.0  1.0\n",
       "17  5.0  2.0  1.0\n",
       "18  5.0  5.0  1.0\n",
       "19  6.0  4.0  1.0\n",
       "20  5.0  6.0  1.0"
      ]
     },
     "execution_count": 3,
     "metadata": {},
     "output_type": "execute_result"
    }
   ],
   "source": [
    "df = pd.read_csv('data.csv')\n",
    "df"
   ]
  },
  {
   "cell_type": "markdown",
   "metadata": {},
   "source": [
    "#### Input Variable"
   ]
  },
  {
   "cell_type": "code",
   "execution_count": 4,
   "metadata": {},
   "outputs": [
    {
     "name": "stdout",
     "output_type": "stream",
     "text": [
      "WARNING:tensorflow:From /home/ranjeet/.local/lib/python3.5/site-packages/tensorflow/python/framework/op_def_library.py:263: colocate_with (from tensorflow.python.framework.ops) is deprecated and will be removed in a future version.\n",
      "Instructions for updating:\n",
      "Colocations handled automatically by placer.\n"
     ]
    },
    {
     "data": {
      "text/plain": [
       "<tf.Variable 'Variable:0' shape=(21, 2) dtype=float64_ref>"
      ]
     },
     "execution_count": 4,
     "metadata": {},
     "output_type": "execute_result"
    }
   ],
   "source": [
    "X_data = df[['X1','X2']]\n",
    "X = tf.Variable(X_data)\n",
    "X"
   ]
  },
  {
   "cell_type": "markdown",
   "metadata": {},
   "source": [
    "#### Output Variable"
   ]
  },
  {
   "cell_type": "code",
   "execution_count": 5,
   "metadata": {},
   "outputs": [
    {
     "data": {
      "text/plain": [
       "<tf.Variable 'Variable_1:0' shape=(21,) dtype=float64_ref>"
      ]
     },
     "execution_count": 5,
     "metadata": {},
     "output_type": "execute_result"
    }
   ],
   "source": [
    "Y_data = df['Y']\n",
    "Y = tf.Variable(Y_data)\n",
    "Y"
   ]
  },
  {
   "cell_type": "markdown",
   "metadata": {},
   "source": [
    "#### Weights for hidden layer 1"
   ]
  },
  {
   "cell_type": "code",
   "execution_count": 6,
   "metadata": {},
   "outputs": [
    {
     "data": {
      "text/plain": [
       "<tf.Variable 'Variable_2:0' shape=(2, 3) dtype=float64_ref>"
      ]
     },
     "execution_count": 6,
     "metadata": {},
     "output_type": "execute_result"
    }
   ],
   "source": [
    "Weights1 = np.array([[1.0,2.0],[3.0,-1.0],[-1.0,1.0]])\n",
    "W1 = tf.Variable(Weights1.T)\n",
    "W1"
   ]
  },
  {
   "cell_type": "markdown",
   "metadata": {},
   "source": [
    "#### Weights for output layer"
   ]
  },
  {
   "cell_type": "code",
   "execution_count": 7,
   "metadata": {},
   "outputs": [
    {
     "data": {
      "text/plain": [
       "<tf.Variable 'Variable_3:0' shape=(3, 1) dtype=float64_ref>"
      ]
     },
     "execution_count": 7,
     "metadata": {},
     "output_type": "execute_result"
    }
   ],
   "source": [
    "Weights2 = np.array([[2.0,-1.0,3.0]])\n",
    "W2 = tf.Variable(Weights2.T)\n",
    "W2"
   ]
  },
  {
   "cell_type": "markdown",
   "metadata": {},
   "source": [
    "#### Plotting Dataset"
   ]
  },
  {
   "cell_type": "code",
   "execution_count": 8,
   "metadata": {},
   "outputs": [
    {
     "data": {
      "image/png": "[encoded data removed]",
      "text/plain": [
       "<Figure size 432x288 with 1 Axes>"
      ]
     },
     "metadata": {
      "needs_background": "light"
     },
     "output_type": "display_data"
    }
   ],
   "source": [
    "x1 = np.array(X_data['X1'])\n",
    "x2 = np.array(X_data['X2'])\n",
    "plt.plot(x1,x2,'*')\n",
    "plt.xlabel('X1')\n",
    "plt.ylabel('X2')\n",
    "plt.show()"
   ]
  },
  {
   "cell_type": "markdown",
   "metadata": {},
   "source": [
    "## Session"
   ]
  },
  {
   "cell_type": "code",
   "execution_count": 9,
   "metadata": {},
   "outputs": [],
   "source": [
    "sess = tf.Session()\n",
    "sess.run(tf.global_variables_initializer())"
   ]
  },
  {
   "cell_type": "markdown",
   "metadata": {},
   "source": [
    "## Processing Hidden Layers"
   ]
  },
  {
   "cell_type": "code",
   "execution_count": 10,
   "metadata": {},
   "outputs": [],
   "source": [
    "def hidden_layers(X,W):\n",
    "    z = tf.matmul(X,W)\n",
    "    return z"
   ]
  },
  {
   "cell_type": "markdown",
   "metadata": {},
   "source": [
    "## Processing Output Layer"
   ]
  },
  {
   "cell_type": "code",
   "execution_count": 11,
   "metadata": {},
   "outputs": [],
   "source": [
    "def output_layer(z,W):\n",
    "    z = tf.matmul(z,W)\n",
    "    y = tf.nn.sigmoid(z)\n",
    "    return y"
   ]
  },
  {
   "cell_type": "markdown",
   "metadata": {},
   "source": [
    "## Loss"
   ]
  },
  {
   "cell_type": "code",
   "execution_count": 12,
   "metadata": {
    "scrolled": true
   },
   "outputs": [],
   "source": [
    "def loss_calculation(Y,y):\n",
    "    loss = tf.global_variables_initializer()\n",
    "    accuracy = tf.global_variables_initializer()\n",
    "    loss = tf.reduce_mean(tf.square(tf.subtract(Y,y)))\n",
    "    loss/=21\n",
    "    accuracy = 1-loss\n",
    "    print(\"Loss: \" + str(sess.run(loss)))\n",
    "    print(\"Accuracy: \" + str(sess.run(accuracy)))\n"
   ]
  },
  {
   "cell_type": "markdown",
   "metadata": {},
   "source": [
    "## Running Model"
   ]
  },
  {
   "cell_type": "code",
   "execution_count": 13,
   "metadata": {},
   "outputs": [
    {
     "name": "stdout",
     "output_type": "stream",
     "text": [
      "z = : \n",
      " [[14.  7.  1.]\n",
      " [ 4.  5. -1.]\n",
      " [ 6.  4.  0.]\n",
      " [17.  9.  1.]\n",
      " [11.  5.  1.]\n",
      " [11.  5.  1.]\n",
      " [ 5.  1.  1.]\n",
      " [13. 11. -1.]\n",
      " [12. 15. -3.]\n",
      " [ 8. 10. -2.]\n",
      " [15.  3.  3.]\n",
      " [10.  9. -1.]\n",
      " [ 3.  2.  0.]\n",
      " [ 9.  6.  0.]\n",
      " [11. 12. -2.]\n",
      " [12.  8.  0.]\n",
      " [15.  3.  3.]\n",
      " [ 9. 13. -3.]\n",
      " [15. 10.  0.]\n",
      " [14. 14. -2.]\n",
      " [17.  9.  1.]]\n",
      "y = : \n",
      " [[1.        ]\n",
      " [0.5       ]\n",
      " [0.99966465]\n",
      " [1.        ]\n",
      " [1.        ]\n",
      " [1.        ]\n",
      " [0.99999386]\n",
      " [0.99999386]\n",
      " [0.5       ]\n",
      " [0.5       ]\n",
      " [1.        ]\n",
      " [0.99966465]\n",
      " [0.98201379]\n",
      " [0.99999386]\n",
      " [0.98201379]\n",
      " [0.99999989]\n",
      " [1.        ]\n",
      " [0.01798621]\n",
      " [1.        ]\n",
      " [0.99966465]\n",
      " [1.        ]]\n",
      "Loss: 0.012506733494088793\n",
      "Accuracy: 0.9874932665059112\n"
     ]
    }
   ],
   "source": [
    "z = hidden_layers(X_data,Weights1.T)\n",
    "print(\"z = : \\n\",sess.run(z))\n",
    "y = output_layer(z,Weights2.T)\n",
    "print(\"y = : \\n\",sess.run(y))\n",
    "loss_calculation(Y,y)"
   ]
  },
  {
   "cell_type": "markdown",
   "metadata": {},
   "source": [
    "## Training"
   ]
  },
  {
   "cell_type": "markdown",
   "metadata": {},
   "source": [
    "#### Standard deviation"
   ]
  },
  {
   "cell_type": "code",
   "execution_count": 14,
   "metadata": {},
   "outputs": [
    {
     "data": {
      "text/plain": [
       "1.4443572274383905"
      ]
     },
     "execution_count": 14,
     "metadata": {},
     "output_type": "execute_result"
    }
   ],
   "source": [
    "s1 = np.std(X_data)\n",
    "s1['X1']"
   ]
  },
  {
   "cell_type": "markdown",
   "metadata": {},
   "source": [
    "#### New Weights"
   ]
  },
  {
   "cell_type": "code",
   "execution_count": 15,
   "metadata": {},
   "outputs": [
    {
     "name": "stdout",
     "output_type": "stream",
     "text": [
      "Epoch  1 has:\n",
      "Loss: 0.012498708262196956\n",
      "Accuracy: 0.987501291737803\n",
      "\n",
      "Epoch  11 has:\n",
      "Loss: 0.012392891600251468\n",
      "Accuracy: 0.9876071083997485\n",
      "\n",
      "Epoch  21 has:\n",
      "Loss: 0.012239619324742722\n",
      "Accuracy: 0.9877603806752573\n",
      "\n",
      "Epoch  31 has:\n",
      "Loss: 0.012044935864079181\n",
      "Accuracy: 0.9879550641359208\n",
      "\n",
      "Epoch  41 has:\n",
      "Loss: 0.011820084235201275\n",
      "Accuracy: 0.9881799157647987\n",
      "\n",
      "Epoch  51 has:\n",
      "Loss: 0.011575986626052071\n",
      "Accuracy: 0.9884240133739479\n",
      "\n",
      "Epoch  61 has:\n",
      "Loss: 0.01132135799456376\n",
      "Accuracy: 0.9886786420054362\n",
      "\n",
      "Epoch  71 has:\n",
      "Loss: 0.011063450948347507\n",
      "Accuracy: 0.9889365490516525\n",
      "\n",
      "Epoch  81 has:\n",
      "Loss: 0.010808655049894273\n",
      "Accuracy: 0.9891913449501057\n",
      "\n",
      "Epoch  91 has:\n",
      "Loss: 0.010562924475275907\n",
      "Accuracy: 0.989437075524724\n",
      "\n"
     ]
    }
   ],
   "source": [
    "lr=0.01\n",
    "epoch=100\n",
    "for i in range(0,epoch):\n",
    "    new_wei1 = tf.subtract(Weights1,lr*Weights1)\n",
    "    z = hidden_layers(X_data,tf.transpose(new_wei1))\n",
    "    Weights1 = new_wei1\n",
    "    \n",
    "    new_wei2 = tf.subtract(Weights2,lr*Weights2)\n",
    "    y = output_layer(z,tf.transpose(new_wei2))\n",
    "    Weights2 = new_wei2\n",
    "    if i%10 is 0:\n",
    "        print(\"Epoch \",i+1,\"has:\")\n",
    "        loss_calculation(Y,y)\n",
    "        print()\n",
    "    "
   ]
  }
 ],
 "metadata": {
  "kernelspec": {
   "display_name": "Python 3",
   "language": "python",
   "name": "python3"
  },
  "language_info": {
   "codemirror_mode": {
    "name": "ipython",
    "version": 3
   },
   "file_extension": ".py",
   "mimetype": "text/x-python",
   "name": "python",
   "nbconvert_exporter": "python",
   "pygments_lexer": "ipython3",
   "version": "3.5.2"
  }
 },
 "nbformat": 4,
 "nbformat_minor": 2
}
